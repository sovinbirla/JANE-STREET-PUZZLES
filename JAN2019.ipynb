{
 "cells": [
  {
   "cell_type": "code",
   "execution_count": 2,
   "metadata": {
    "id": "Oq1xibzMT1Wl"
   },
   "outputs": [
    {
     "ename": "ModuleNotFoundError",
     "evalue": "No module named 'skimage'",
     "output_type": "error",
     "traceback": [
      "\u001b[0;31m---------------------------------------------------------------------------\u001b[0m",
      "\u001b[0;31mModuleNotFoundError\u001b[0m                       Traceback (most recent call last)",
      "Cell \u001b[0;32mIn[2], line 9\u001b[0m\n\u001b[1;32m      7\u001b[0m \u001b[38;5;28;01mimport\u001b[39;00m \u001b[38;5;21;01mitertools\u001b[39;00m\n\u001b[1;32m      8\u001b[0m \u001b[38;5;28;01mfrom\u001b[39;00m \u001b[38;5;21;01mcopy\u001b[39;00m \u001b[38;5;28;01mimport\u001b[39;00m deepcopy \u001b[38;5;28;01mas\u001b[39;00m dcopy,copy\n\u001b[0;32m----> 9\u001b[0m \u001b[38;5;28;01mfrom\u001b[39;00m \u001b[38;5;21;01mskimage\u001b[39;00m\u001b[38;5;21;01m.\u001b[39;00m\u001b[38;5;21;01mmorphology\u001b[39;00m \u001b[38;5;28;01mimport\u001b[39;00m label\n\u001b[1;32m     10\u001b[0m \u001b[38;5;28;01mfrom\u001b[39;00m \u001b[38;5;21;01mcollections\u001b[39;00m \u001b[38;5;28;01mimport\u001b[39;00m defaultdict\n\u001b[1;32m     11\u001b[0m \u001b[38;5;28;01mimport\u001b[39;00m \u001b[38;5;21;01mnumba\u001b[39;00m \u001b[38;5;28;01mas\u001b[39;00m \u001b[38;5;21;01mnb\u001b[39;00m\n",
      "\u001b[0;31mModuleNotFoundError\u001b[0m: No module named 'skimage'"
     ]
    }
   ],
   "source": [
    "import numpy as np\n",
    "import time\n",
    "import seaborn as sns\n",
    "import matplotlib.pyplot as plt\n",
    "import requests\n",
    "from bs4 import BeautifulSoup\n",
    "import itertools\n",
    "from copy import deepcopy as dcopy,copy\n",
    "from skimage.morphology import label\n",
    "from collections import defaultdict\n",
    "import numba as nb\n",
    "from skimage.segmentation import clear_border"
   ]
  },
  {
   "cell_type": "code",
   "execution_count": 4,
   "metadata": {
    "id": "ICTfvjZUT1Wr"
   },
   "outputs": [
    {
     "name": "stdout",
     "output_type": "stream",
     "text": [
      "A 17-by-17 field is divided into unit squares. Some of the squares contain “posts” at their center. Each post is represented below by a number. Construct one or more fences emanating from each post, such that the total length of fence connected to a post equals the number given. Fences have integer length and can only be constructed horizontally or vertically. Fences from different posts may not touch, nor may a fence from one post touch a different post. The goal of this puzzle is to build your fences in such a manner that it is possible to draw a closed loop through some of the remaining empty squares. The loop must enclose at least one post, and must be symmetric in some way (either via rotation or reflection). As in the example, the loop must be rectilinear, passing through the centers of adjacent empty squares. The answer to this puzzle is the product of the fence-lengths of the fences inside the loop . (Note that in the Example, the answer is 2 , not 4.)\n"
     ]
    }
   ],
   "source": [
    "# Computer assisted rather than computer solved for this one\n",
    "# The forced cells from the boundaries were easy enough to code\n",
    "# but the cells forced to be boundary to keep the path open were harder\n",
    "# got to a solution but seemed to have multiple choices on the 4 in [4,4]\n",
    "# until I noticed the symmetry condition which I then correct for\n",
    "\n",
    "\n",
    "url='https://www.janestreet.com/puzzles/fences/'\n",
    "res = requests.get(url)\n",
    "soup = BeautifulSoup(res.content, 'html.parser')\n",
    "x =[text for text in soup.body.stripped_strings]\n",
    "\n",
    "print(\" \".join(x[7:20]))"
   ]
  },
  {
   "cell_type": "markdown",
   "metadata": {
    "id": "U9Yh1D3HT1Ws"
   },
   "source": [
    "### Puzzle details\n",
    "<img src=\"https://www.janestreet.com/puzzles/20190101_fences.png\" width=\"350\">"
   ]
  },
  {
   "cell_type": "code",
   "execution_count": 5,
   "metadata": {
    "id": "844RhDFpT1Wu"
   },
   "outputs": [
    {
     "data": {
      "text/plain": [
       "[]"
      ]
     },
     "execution_count": 5,
     "metadata": {},
     "output_type": "execute_result"
    },
    {
     "data": {
      "image/png": "[encoded data removed]",
      "text/plain": [
       "<Figure size 432x432 with 1 Axes>"
      ]
     },
     "metadata": {
      "needs_background": "light"
     },
     "output_type": "display_data"
    }
   ],
   "source": [
    "# Setup the constraints\n",
    "fixed = np.array([[0, 0, 0, 0, 0, 2, 0,  0, 0, 1, 0,  0, 0, 0, 0, 0, 5],\n",
    "                  [0, 0, 0, 0, 0, 0, 0,  3, 0, 0, 0,  0, 0, 0, 2, 0, 0],\n",
    "                  [0, 0, 0, 0, 3, 0, 0,  0, 0, 0, 0,  0, 0, 0, 0, 0, 0],\n",
    "                  [5, 0, 0, 0, 0, 0, 0,  0, 0, 0, 0, 22, 0, 0, 0, 0, 0],\n",
    "                  [0, 0, 0, 0, 4, 0, 0,  0, 0, 0, 0,  0, 0, 0, 0, 0, 0],\n",
    "                  [0, 0, 0, 0, 0, 0, 0,  0, 0, 4, 0,  0, 0, 1, 0, 0, 0],\n",
    "                  [0, 0, 0, 0, 0, 0, 0,  0, 0, 0, 0,  0, 0, 0, 0,19, 0],\n",
    "                  [0, 0, 0, 0, 0, 0, 0, 15, 0, 0, 0,  0, 0, 0, 0, 0, 0],\n",
    "                  [0, 0, 0, 0, 0, 0, 0,  0, 4, 0, 0,  0, 0, 0, 0, 0, 0],\n",
    "                  [0, 0, 0, 0, 0, 0, 0,  0, 0, 2, 0,  0, 0, 0, 0, 0, 0],\n",
    "                  [0, 9, 0, 0, 0, 0, 0,  0, 0, 0, 0,  0, 0, 0, 0, 0, 0],\n",
    "                  [0, 0, 0, 3, 0, 0, 0,  2, 0, 0, 0,  0, 0, 0, 0, 0, 0],\n",
    "                  [0, 0, 0, 0, 0, 0, 0,  0, 0, 0, 0,  0, 4, 0, 0, 0, 0],\n",
    "                  [0, 0, 0, 0, 0, 8, 0,  0, 0, 0, 0,  0, 0, 0, 0, 0, 9],\n",
    "                  [0, 0, 0, 0, 0, 0, 0,  0, 0, 0, 0,  0, 4, 0, 0, 0, 0],\n",
    "                  [0, 0, 3, 0, 0, 0, 0,  0, 0,15, 0,  0, 0, 0, 0, 0, 0],\n",
    "                  [6, 0, 0, 0, 0, 0, 0,  1, 0, 0, 0,  4, 0, 0, 0, 0, 0]],dtype=int)\n",
    "\n",
    "fig,ax = plt.subplots(1,1,figsize=(6,6))\n",
    "x = np.array(fixed.astype('int').astype('str'))\n",
    "x[x==\"0\"] =\"-\"\n",
    "ax =sns.heatmap(fixed>0,annot=x,cbar=False,cmap=\"Reds\",center =2,fmt=\"\",linewidths=1)\n",
    "ax.axis(\"off\")\n",
    "plt.plot()\n"
   ]
  },
  {
   "cell_type": "code",
   "execution_count": 17,
   "metadata": {
    "id": "844RhDFpT1Wu"
   },
   "outputs": [],
   "source": [
    "class Matrix():\n",
    "    def __init__(self,fixed):\n",
    "        self.fixed = fixed\n",
    "        \n",
    "    #########################################\n",
    "    # force the lines \n",
    "\n",
    "    def clearance(self,grid,row,col):\n",
    "        num = grid[row,col]\n",
    "        \n",
    "        top = grid[:row,col][::-1]\n",
    "        bot = grid[row+1:,col]\n",
    "        lhs = grid[row,:col][::-1]\n",
    "        rhs = grid[row,col+1:]\n",
    "        bounds = [top,bot,lhs,rhs]\n",
    "        \n",
    "        allowed = [-num,0]\n",
    "        clearance = []\n",
    "        \n",
    "        for i in range(4):\n",
    "\n",
    "            for n in range(len(bounds[i])):\n",
    "                if bounds[i][n] not in allowed:\n",
    "                    n -=1\n",
    "                    break                        \n",
    "            if len(bounds[i])==0:\n",
    "                n=-1\n",
    "            clearance.append(n+1)\n",
    "        \n",
    "        return clearance\n",
    "    \n",
    "    def forced_by_clearance(self,grid):\n",
    "        for row,col in itertools.product(range(17),range(17)):\n",
    "            num = grid[row,col]\n",
    "            if num >0:\n",
    "                bounds = self.clearance(grid,row,col)\n",
    "                forced = [max(0,num-np.sum(bounds)+bounds[i]) for i in range(4)]\n",
    "                [top,bot,lhs,rhs] =forced\n",
    "                grid[row-top:row,col] = -num\n",
    "                grid[row+1:row+1+bot,col] = -num\n",
    "                grid[row,col-lhs:col] = -num\n",
    "                grid[row,col+1:col+1+rhs] = -num\n",
    "        return grid\n",
    "   \n",
    "    ##############################################\n",
    "    # Turn the grid moves into a nice format\n",
    "    def sol_print(self,grid):\n",
    "        fig,ax =plt.subplots(1,1,figsize=(5,5))\n",
    "        \n",
    "        y= dcopy(grid)\n",
    "        y[y>0] = 2\n",
    "        y[y==-99] = 1\n",
    "        y[y<0] = 0\n",
    "                \n",
    "        x = np.array(grid.astype('int').astype('str'))\n",
    "        x[x==\"0\"] =\"-\"\n",
    "        x[x==\"-99\"] =\"\"\n",
    "        ax =sns.heatmap(y,annot=x,cbar=False,cmap=\"Reds\",center =3,fmt=\"\",linewidths=1,ax=ax)\n",
    "        ax.axis(\"off\") \n",
    "        plt.tight_layout()\n",
    "        plt.plot\n",
    "                                         \n",
    "    ###############################################\n",
    "    # Main solver.  \n",
    "    def solve(self):\n",
    "        start = time.time()\n",
    "        grid=dcopy(fixed)\n",
    "        \n",
    "        # loop through and find the cells forced by the lengths of \n",
    "        # the fences. The 22 and 15 narrow things down a lot !\n",
    "        changed = True\n",
    "        while changed:\n",
    "            changed = False\n",
    "            copy_grid = dcopy(grid)\n",
    "            grid = self.forced_by_clearance(grid)\n",
    "            if np.any(copy_grid !=grid):\n",
    "                changed=True   \n",
    "        #self.sol_print(grid)\n",
    "        \n",
    "        # then iterate round the boundary making sure the path\n",
    "        # is clear. Did this manually\n",
    "        grid[6:9,0] = -99\n",
    "        grid[2:7,1] =-99\n",
    "        grid[0,10:13] = -99\n",
    "        grid[13,10:14] = -99\n",
    "        grid[2:5,14] = -99\n",
    "        grid[1,1:7] = -99\n",
    "        grid[2,6:11] =-99\n",
    "        grid[1,10] =-99\n",
    "        grid[1:3,12] =-99\n",
    "        grid[2,13 ]=-99\n",
    "        grid[4,12:14] =-99\n",
    "        grid[5:9,12]=-99\n",
    "        grid[11:14,14]=-99\n",
    "        grid[11,9]=-99\n",
    "        grid[11:15,8]=-99\n",
    "        grid[8:12,13]=-99\n",
    "        grid[11:13,10]=-99\n",
    "        grid[14,7]=-99\n",
    "        grid[8:15,6]=-99\n",
    "        grid[8,1:6]=-99\n",
    "        \n",
    "        #forced numbers\n",
    "        grid[15,0]=-3\n",
    "        grid[0,6]=-2\n",
    "        \n",
    "        #fix the symmetry to solve the 4\n",
    "        grid[0,1:4]=-99\n",
    "        grid[1,2]= 0\n",
    "        grid[4,1:4]=-99\n",
    "        grid[6,1:4]=-99\n",
    "        grid[5,3]=-99\n",
    "        grid[5,1]= 0\n",
    "        # fill in the rest\n",
    "        changed = True\n",
    "        while changed:\n",
    "            changed = False\n",
    "            copy_grid = dcopy(grid)\n",
    "            grid = self.forced_by_clearance(grid)\n",
    "            if np.any(copy_grid !=grid):\n",
    "                changed=True   \n",
    "        \n",
    "        self.sol_print(grid)\n",
    "        counts = np.unique(fixed,return_counts=True)\n",
    "        \n",
    "        for i in range(len(counts[0])):\n",
    "            num = counts[0][i]\n",
    "            count = counts[1][i] \n",
    "            if num ==0:\n",
    "                continue\n",
    "            print(\"Number of {}'s : {} (Should be {}) Status:{}\".format(num,np.sum(grid==-num),count*num,np.sum(grid==-num)==count*num))\n",
    "\n",
    "        print(\"\\nSolution is {:,.0f}\".format((2*1)*(2*2)*(2*2*9*9)*(2*2)*(1*1*1*1)*(3*3*3*6)*2*(1*1)*(3*1))) # legs for the 3,4,22,4,4,15,2,2,4 \n",
    "        print(\"\\n***Solved in {:.4f} seconds***\\n\".format(time.time() - start))    \n",
    "      "
   ]
  },
  {
   "cell_type": "code",
   "execution_count": 18,
   "metadata": {
    "colab": {
     "base_uri": "https://localhost:8080/",
     "height": 374
    },
    "id": "zexQ8t1kT1W3",
    "outputId": "7c2aec4e-d2fb-45d8-fc7e-679051faafed"
   },
   "outputs": [
    {
     "name": "stdout",
     "output_type": "stream",
     "text": [
      "Number of 1's : 3 (Should be 3) Status:True\n",
      "Number of 2's : 8 (Should be 8) Status:True\n",
      "Number of 3's : 12 (Should be 12) Status:True\n",
      "Number of 4's : 24 (Should be 24) Status:True\n",
      "Number of 5's : 10 (Should be 10) Status:True\n",
      "Number of 6's : 6 (Should be 6) Status:True\n",
      "Number of 8's : 8 (Should be 8) Status:True\n",
      "Number of 9's : 18 (Should be 18) Status:True\n",
      "Number of 15's : 30 (Should be 30) Status:True\n",
      "Number of 19's : 19 (Should be 19) Status:True\n",
      "Number of 22's : 22 (Should be 22) Status:True\n",
      "\n",
      "Solution is 10,077,696\n",
      "\n",
      "***Solved in 0.2364 seconds***\n",
      "\n"
     ]
    },
    {
     "data": {
      "image/png": "[encoded data removed]",
      "text/plain": [
       "<Figure size 360x360 with 1 Axes>"
      ]
     },
     "metadata": {
      "needs_background": "light"
     },
     "output_type": "display_data"
    }
   ],
   "source": [
    "test = Matrix(fixed)\n",
    "test.solve()"
   ]
  },
  {
   "cell_type": "code",
   "execution_count": 12,
   "metadata": {},
   "outputs": [
    {
     "name": "stdout",
     "output_type": "stream",
     "text": [
      "The unique configuration that works is shown to the left. The product of the lengths of the fences inside the loop is 10,077,696 . Nicely done, solvers!\n"
     ]
    }
   ],
   "source": [
    "url='https://www.janestreet.com/puzzles/solutions/january-2019-solution/'\n",
    "res = requests.get(url)\n",
    "soup = BeautifulSoup(res.content, 'html.parser')\n",
    "x =[text for text in soup.body.stripped_strings]\n",
    "\n",
    "print(\" \".join(x[7:10]))"
   ]
  },
  {
   "cell_type": "markdown",
   "metadata": {},
   "source": [
    "<img src=\"https://www.janestreet.com/puzzles/20190130_fences_solved.png\" width=\"500\">"
   ]
  },
  {
   "cell_type": "code",
   "execution_count": null,
   "metadata": {},
   "outputs": [],
   "source": [
    "\n",
    "        "
   ]
  }
 ],
 "metadata": {
  "colab": {
   "include_colab_link": true,
   "name": "JaneSt-Feb18.ipynb",
   "provenance": []
  },
  "kernelspec": {
   "display_name": "Python 3",
   "language": "python",
   "name": "python3"
  },
  "language_info": {
   "codemirror_mode": {
    "name": "ipython",
    "version": 3
   },
   "file_extension": ".py",
   "mimetype": "text/x-python",
   "name": "python",
   "nbconvert_exporter": "python",
   "pygments_lexer": "ipython3",
   "version": "3.11.4"
  }
 },
 "nbformat": 4,
 "nbformat_minor": 4
}
